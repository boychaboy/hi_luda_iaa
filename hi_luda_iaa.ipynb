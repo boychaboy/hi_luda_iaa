{
 "cells": [
  {
   "cell_type": "markdown",
   "id": "8f9416b4",
   "metadata": {},
   "source": [
    "# Calculate IAA using Fleiss Kappa"
   ]
  },
  {
   "cell_type": "code",
   "execution_count": 1,
   "id": "c885a8f0",
   "metadata": {},
   "outputs": [],
   "source": [
    "import pandas as pd"
   ]
  },
  {
   "cell_type": "code",
   "execution_count": 46,
   "id": "d5e87bd5",
   "metadata": {},
   "outputs": [],
   "source": [
    "annotation_result_df = pd.read_csv(\"iaa.csv\")"
   ]
  },
  {
   "cell_type": "code",
   "execution_count": 47,
   "id": "6c741cd8",
   "metadata": {},
   "outputs": [
    {
     "data": {
      "text/html": [
       "<div>\n",
       "<style scoped>\n",
       "    .dataframe tbody tr th:only-of-type {\n",
       "        vertical-align: middle;\n",
       "    }\n",
       "\n",
       "    .dataframe tbody tr th {\n",
       "        vertical-align: top;\n",
       "    }\n",
       "\n",
       "    .dataframe thead th {\n",
       "        text-align: right;\n",
       "    }\n",
       "</style>\n",
       "<table border=\"1\" class=\"dataframe\">\n",
       "  <thead>\n",
       "    <tr style=\"text-align: right;\">\n",
       "      <th></th>\n",
       "      <th>num</th>\n",
       "      <th>원익</th>\n",
       "      <th>수민</th>\n",
       "      <th>유정</th>\n",
       "      <th>결론</th>\n",
       "    </tr>\n",
       "  </thead>\n",
       "  <tbody>\n",
       "    <tr>\n",
       "      <th>0</th>\n",
       "      <td>11</td>\n",
       "      <td>2111</td>\n",
       "      <td>2111</td>\n",
       "      <td>2111</td>\n",
       "      <td>2111</td>\n",
       "    </tr>\n",
       "    <tr>\n",
       "      <th>1</th>\n",
       "      <td>12</td>\n",
       "      <td>2341</td>\n",
       "      <td>2141</td>\n",
       "      <td>2131</td>\n",
       "      <td>2341</td>\n",
       "    </tr>\n",
       "    <tr>\n",
       "      <th>2</th>\n",
       "      <td>19</td>\n",
       "      <td>4131</td>\n",
       "      <td>4131</td>\n",
       "      <td>4421</td>\n",
       "      <td>3131</td>\n",
       "    </tr>\n",
       "    <tr>\n",
       "      <th>3</th>\n",
       "      <td>25</td>\n",
       "      <td>2411</td>\n",
       "      <td>2131</td>\n",
       "      <td>2141</td>\n",
       "      <td>2431</td>\n",
       "    </tr>\n",
       "    <tr>\n",
       "      <th>4</th>\n",
       "      <td>27</td>\n",
       "      <td>1155</td>\n",
       "      <td>2151</td>\n",
       "      <td>2131</td>\n",
       "      <td>2151</td>\n",
       "    </tr>\n",
       "    <tr>\n",
       "      <th>...</th>\n",
       "      <td>...</td>\n",
       "      <td>...</td>\n",
       "      <td>...</td>\n",
       "      <td>...</td>\n",
       "      <td>...</td>\n",
       "    </tr>\n",
       "    <tr>\n",
       "      <th>633</th>\n",
       "      <td>2426</td>\n",
       "      <td>2133</td>\n",
       "      <td>2133</td>\n",
       "      <td>2131</td>\n",
       "      <td>2133</td>\n",
       "    </tr>\n",
       "    <tr>\n",
       "      <th>634</th>\n",
       "      <td>2432</td>\n",
       "      <td>4421</td>\n",
       "      <td>2421</td>\n",
       "      <td>2421</td>\n",
       "      <td>2421</td>\n",
       "    </tr>\n",
       "    <tr>\n",
       "      <th>635</th>\n",
       "      <td>2434</td>\n",
       "      <td>2262</td>\n",
       "      <td>2162</td>\n",
       "      <td>2431</td>\n",
       "      <td>2262</td>\n",
       "    </tr>\n",
       "    <tr>\n",
       "      <th>636</th>\n",
       "      <td>2435</td>\n",
       "      <td>3345</td>\n",
       "      <td>3355</td>\n",
       "      <td>3155</td>\n",
       "      <td>3345</td>\n",
       "    </tr>\n",
       "    <tr>\n",
       "      <th>637</th>\n",
       "      <td>2437</td>\n",
       "      <td>2221</td>\n",
       "      <td>4421</td>\n",
       "      <td>2421</td>\n",
       "      <td>2221</td>\n",
       "    </tr>\n",
       "  </tbody>\n",
       "</table>\n",
       "<p>638 rows × 5 columns</p>\n",
       "</div>"
      ],
      "text/plain": [
       "      num    원익    수민    유정    결론\n",
       "0      11  2111  2111  2111  2111\n",
       "1      12  2341  2141  2131  2341\n",
       "2      19  4131  4131  4421  3131\n",
       "3      25  2411  2131  2141  2431\n",
       "4      27  1155  2151  2131  2151\n",
       "..    ...   ...   ...   ...   ...\n",
       "633  2426  2133  2133  2131  2133\n",
       "634  2432  4421  2421  2421  2421\n",
       "635  2434  2262  2162  2431  2262\n",
       "636  2435  3345  3355  3155  3345\n",
       "637  2437  2221  4421  2421  2221\n",
       "\n",
       "[638 rows x 5 columns]"
      ]
     },
     "execution_count": 47,
     "metadata": {},
     "output_type": "execute_result"
    }
   ],
   "source": [
    "annotation_result_df"
   ]
  },
  {
   "cell_type": "code",
   "execution_count": 29,
   "id": "ad641c0d",
   "metadata": {},
   "outputs": [],
   "source": [
    "\"\"\" data format\n",
    "worker1\tworker2\tworker3\n",
    "1\t1\t2\n",
    "3\t1\t3\n",
    "3\t3\t3\n",
    "4\t1\t4\n",
    "4\t4\t2\n",
    "\"\"\" \n",
    "annotation_results = [[],[],[],[]]\n",
    "annotator1 = annotation_result_df[\"원익\"]\n",
    "annotator2 = annotation_result_df[\"수민\"]\n",
    "annotator3 = annotation_result_df[\"유정\"]"
   ]
  },
  {
   "cell_type": "code",
   "execution_count": 30,
   "id": "7b6b2159",
   "metadata": {},
   "outputs": [],
   "source": [
    "for a1, a2, a3 in zip(annotator1, annotator2, annotator3):\n",
    "    for i in range(4):\n",
    "        annotation_results[i].append(\n",
    "        {\n",
    "            \"annotator1\": int(str(a1)[i]),\n",
    "            \"annotator2\": int(str(a2)[i]),\n",
    "            \"annotator3\": int(str(a3)[i]),\n",
    "        })"
   ]
  },
  {
   "cell_type": "code",
   "execution_count": 31,
   "id": "eedaefd1",
   "metadata": {},
   "outputs": [],
   "source": [
    "def calculate_iaa(annotation_result):\n",
    "    import pandas as pd\n",
    "    import numpy as np\n",
    "    from fleiss import fleissKappa\n",
    "\n",
    "    result = annotation_result.to_numpy()\n",
    "    num_classes = int(np.max(result))\n",
    "\n",
    "    transformed_result = []\n",
    "    for i in range(len(result)):\n",
    "        temp = np.zeros(num_classes)\n",
    "        for j in range(len(result[i])):\n",
    "            temp[int(result[i][j]-1)] += 1\n",
    "        transformed_result.append(temp.astype(int).tolist())\n",
    "\n",
    "    kappa = fleissKappa(transformed_result,len(result[0]))\n",
    "    return"
   ]
  },
  {
   "cell_type": "code",
   "execution_count": 32,
   "id": "243823fe",
   "metadata": {},
   "outputs": [
    {
     "data": {
      "text/plain": [
       "numpy.int64"
      ]
     },
     "execution_count": 32,
     "metadata": {},
     "output_type": "execute_result"
    }
   ],
   "source": [
    "type(pd.DataFrame(annotation_results[0]).iloc[0]['annotator1'])"
   ]
  },
  {
   "cell_type": "markdown",
   "id": "6c1f133e",
   "metadata": {},
   "source": [
    "for i in range(4):\n",
    "    print(f\"Tag Type : {i+1}\")\n",
    "    calculate_iaa(pd.DataFrame(annotation_results[i]))\n",
    "    print()"
   ]
  },
  {
   "cell_type": "code",
   "execution_count": null,
   "id": "e9fb1dd1",
   "metadata": {},
   "outputs": [],
   "source": []
  }
 ],
 "metadata": {
  "kernelspec": {
   "display_name": "Python 3",
   "language": "python",
   "name": "python3"
  },
  "language_info": {
   "codemirror_mode": {
    "name": "ipython",
    "version": 3
   },
   "file_extension": ".py",
   "mimetype": "text/x-python",
   "name": "python",
   "nbconvert_exporter": "python",
   "pygments_lexer": "ipython3",
   "version": "3.9.7"
  },
  "toc": {
   "base_numbering": 1,
   "nav_menu": {},
   "number_sections": true,
   "sideBar": true,
   "skip_h1_title": false,
   "title_cell": "Table of Contents",
   "title_sidebar": "Contents",
   "toc_cell": false,
   "toc_position": {},
   "toc_section_display": true,
   "toc_window_display": false
  },
  "varInspector": {
   "cols": {
    "lenName": 16,
    "lenType": 16,
    "lenVar": 40
   },
   "kernels_config": {
    "python": {
     "delete_cmd_postfix": "",
     "delete_cmd_prefix": "del ",
     "library": "var_list.py",
     "varRefreshCmd": "print(var_dic_list())"
    },
    "r": {
     "delete_cmd_postfix": ") ",
     "delete_cmd_prefix": "rm(",
     "library": "var_list.r",
     "varRefreshCmd": "cat(var_dic_list()) "
    }
   },
   "types_to_exclude": [
    "module",
    "function",
    "builtin_function_or_method",
    "instance",
    "_Feature"
   ],
   "window_display": false
  }
 },
 "nbformat": 4,
 "nbformat_minor": 5
}
