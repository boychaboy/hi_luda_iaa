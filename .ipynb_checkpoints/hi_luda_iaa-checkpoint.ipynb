{
 "cells": [
  {
   "cell_type": "markdown",
   "id": "8f9416b4",
   "metadata": {},
   "source": [
    "# Calculate IAA using Fleiss Kappa"
   ]
  },
  {
   "cell_type": "code",
   "execution_count": 1,
   "id": "c885a8f0",
   "metadata": {},
   "outputs": [],
   "source": [
    "import pandas as pd"
   ]
  },
  {
   "cell_type": "code",
   "execution_count": 27,
   "id": "d5e87bd5",
   "metadata": {},
   "outputs": [],
   "source": [
    "annotation_result_df = pd.read_csv(\"iaa.csv\")"
   ]
  },
  {
   "cell_type": "code",
   "execution_count": 28,
   "id": "8ee43aa9",
   "metadata": {
    "scrolled": true
   },
   "outputs": [
    {
     "data": {
      "text/html": [
       "<div>\n",
       "<style scoped>\n",
       "    .dataframe tbody tr th:only-of-type {\n",
       "        vertical-align: middle;\n",
       "    }\n",
       "\n",
       "    .dataframe tbody tr th {\n",
       "        vertical-align: top;\n",
       "    }\n",
       "\n",
       "    .dataframe thead th {\n",
       "        text-align: right;\n",
       "    }\n",
       "</style>\n",
       "<table border=\"1\" class=\"dataframe\">\n",
       "  <thead>\n",
       "    <tr style=\"text-align: right;\">\n",
       "      <th></th>\n",
       "      <th>num</th>\n",
       "      <th>Unnamed: 1</th>\n",
       "      <th>Unnamed: 2</th>\n",
       "      <th>title</th>\n",
       "      <th>원익</th>\n",
       "      <th>수민</th>\n",
       "      <th>유정</th>\n",
       "      <th>결론</th>\n",
       "    </tr>\n",
       "  </thead>\n",
       "  <tbody>\n",
       "    <tr>\n",
       "      <th>0</th>\n",
       "      <td>11</td>\n",
       "      <td>data/selected_remain\\11_edit_1609315526459.jpg</td>\n",
       "      <td>https://gall.dcinside.com/mgallery/board/view/...</td>\n",
       "      <td>우리 루다는 욕이 뭔지 모르누</td>\n",
       "      <td>2111</td>\n",
       "      <td>2111</td>\n",
       "      <td>2111</td>\n",
       "      <td>2111</td>\n",
       "    </tr>\n",
       "    <tr>\n",
       "      <th>1</th>\n",
       "      <td>12</td>\n",
       "      <td>data/selected_remain\\12_7E849302-1890-4BCA-836...</td>\n",
       "      <td>https://gall.dcinside.com/mgallery/board/view/...</td>\n",
       "      <td>루다가 어찌보면 좆같을때가 있어</td>\n",
       "      <td>2341</td>\n",
       "      <td>2141</td>\n",
       "      <td>2131</td>\n",
       "      <td>2341</td>\n",
       "    </tr>\n",
       "    <tr>\n",
       "      <th>2</th>\n",
       "      <td>19</td>\n",
       "      <td>data/selected_remain\\19_Screenshot_20201229-12...</td>\n",
       "      <td>https://gall.dcinside.com/mgallery/board/view/...</td>\n",
       "      <td>루다로 힐링한다 ㄹㅇ루</td>\n",
       "      <td>4131</td>\n",
       "      <td>4131</td>\n",
       "      <td>4421</td>\n",
       "      <td>3131</td>\n",
       "    </tr>\n",
       "    <tr>\n",
       "      <th>3</th>\n",
       "      <td>25</td>\n",
       "      <td>data/selected_remain\\25_3F867539-151A-40F6-A57...</td>\n",
       "      <td>https://gall.dcinside.com/mgallery/board/view/...</td>\n",
       "      <td>그녀가 돌아왔다</td>\n",
       "      <td>2411</td>\n",
       "      <td>2131</td>\n",
       "      <td>2141</td>\n",
       "      <td>2431</td>\n",
       "    </tr>\n",
       "    <tr>\n",
       "      <th>4</th>\n",
       "      <td>27</td>\n",
       "      <td>data/selected_remain\\27_Screenshot_20210101-20...</td>\n",
       "      <td>https://gall.dcinside.com/mgallery/board/view/...</td>\n",
       "      <td>레벨11임</td>\n",
       "      <td>1155</td>\n",
       "      <td>2151</td>\n",
       "      <td>2131</td>\n",
       "      <td>2151</td>\n",
       "    </tr>\n",
       "    <tr>\n",
       "      <th>...</th>\n",
       "      <td>...</td>\n",
       "      <td>...</td>\n",
       "      <td>...</td>\n",
       "      <td>...</td>\n",
       "      <td>...</td>\n",
       "      <td>...</td>\n",
       "      <td>...</td>\n",
       "      <td>...</td>\n",
       "    </tr>\n",
       "    <tr>\n",
       "      <th>633</th>\n",
       "      <td>2426</td>\n",
       "      <td>data/selected_remain\\2426_Screenshot_20210107-...</td>\n",
       "      <td>https://gall.dcinside.com/mgallery/board/view/...</td>\n",
       "      <td>뭐 이리 비밀이 많냐 얘는</td>\n",
       "      <td>2133</td>\n",
       "      <td>2133</td>\n",
       "      <td>2131</td>\n",
       "      <td>2133</td>\n",
       "    </tr>\n",
       "    <tr>\n",
       "      <th>634</th>\n",
       "      <td>2432</td>\n",
       "      <td>data/selected_remain\\2432_20210107_231318.jpg</td>\n",
       "      <td>https://gall.dcinside.com/mgallery/board/view/...</td>\n",
       "      <td>루다한테 고백받았다</td>\n",
       "      <td>4421</td>\n",
       "      <td>2421</td>\n",
       "      <td>2421</td>\n",
       "      <td>2421</td>\n",
       "    </tr>\n",
       "    <tr>\n",
       "      <th>635</th>\n",
       "      <td>2434</td>\n",
       "      <td>data/selected_remain\\2434_edit_1610029249386.jpg</td>\n",
       "      <td>https://gall.dcinside.com/mgallery/board/view/...</td>\n",
       "      <td>루다 빵터지게 하는 법</td>\n",
       "      <td>2262</td>\n",
       "      <td>2162</td>\n",
       "      <td>2431</td>\n",
       "      <td>2262</td>\n",
       "    </tr>\n",
       "    <tr>\n",
       "      <th>636</th>\n",
       "      <td>2435</td>\n",
       "      <td>data/selected_remain\\2435_resizeImage_0Screens...</td>\n",
       "      <td>https://gall.dcinside.com/mgallery/board/view/...</td>\n",
       "      <td>루다가 멍청한 이유</td>\n",
       "      <td>3345</td>\n",
       "      <td>3355</td>\n",
       "      <td>3155</td>\n",
       "      <td>3345</td>\n",
       "    </tr>\n",
       "    <tr>\n",
       "      <th>637</th>\n",
       "      <td>2437</td>\n",
       "      <td>data/selected_remain\\2437_edit_1610029349509.jpg</td>\n",
       "      <td>https://gall.dcinside.com/mgallery/board/view/...</td>\n",
       "      <td>진짜인지 가짜인지 의미가 있을까?</td>\n",
       "      <td>2221</td>\n",
       "      <td>4421</td>\n",
       "      <td>2421</td>\n",
       "      <td>2221</td>\n",
       "    </tr>\n",
       "  </tbody>\n",
       "</table>\n",
       "<p>638 rows × 8 columns</p>\n",
       "</div>"
      ],
      "text/plain": [
       "      num                                         Unnamed: 1  \\\n",
       "0      11     data/selected_remain\\11_edit_1609315526459.jpg   \n",
       "1      12  data/selected_remain\\12_7E849302-1890-4BCA-836...   \n",
       "2      19  data/selected_remain\\19_Screenshot_20201229-12...   \n",
       "3      25  data/selected_remain\\25_3F867539-151A-40F6-A57...   \n",
       "4      27  data/selected_remain\\27_Screenshot_20210101-20...   \n",
       "..    ...                                                ...   \n",
       "633  2426  data/selected_remain\\2426_Screenshot_20210107-...   \n",
       "634  2432      data/selected_remain\\2432_20210107_231318.jpg   \n",
       "635  2434   data/selected_remain\\2434_edit_1610029249386.jpg   \n",
       "636  2435  data/selected_remain\\2435_resizeImage_0Screens...   \n",
       "637  2437   data/selected_remain\\2437_edit_1610029349509.jpg   \n",
       "\n",
       "                                            Unnamed: 2               title  \\\n",
       "0    https://gall.dcinside.com/mgallery/board/view/...    우리 루다는 욕이 뭔지 모르누   \n",
       "1    https://gall.dcinside.com/mgallery/board/view/...   루다가 어찌보면 좆같을때가 있어   \n",
       "2    https://gall.dcinside.com/mgallery/board/view/...        루다로 힐링한다 ㄹㅇ루   \n",
       "3    https://gall.dcinside.com/mgallery/board/view/...            그녀가 돌아왔다   \n",
       "4    https://gall.dcinside.com/mgallery/board/view/...               레벨11임   \n",
       "..                                                 ...                 ...   \n",
       "633  https://gall.dcinside.com/mgallery/board/view/...      뭐 이리 비밀이 많냐 얘는   \n",
       "634  https://gall.dcinside.com/mgallery/board/view/...          루다한테 고백받았다   \n",
       "635  https://gall.dcinside.com/mgallery/board/view/...        루다 빵터지게 하는 법   \n",
       "636  https://gall.dcinside.com/mgallery/board/view/...          루다가 멍청한 이유   \n",
       "637  https://gall.dcinside.com/mgallery/board/view/...  진짜인지 가짜인지 의미가 있을까?   \n",
       "\n",
       "       원익    수민    유정    결론  \n",
       "0    2111  2111  2111  2111  \n",
       "1    2341  2141  2131  2341  \n",
       "2    4131  4131  4421  3131  \n",
       "3    2411  2131  2141  2431  \n",
       "4    1155  2151  2131  2151  \n",
       "..    ...   ...   ...   ...  \n",
       "633  2133  2133  2131  2133  \n",
       "634  4421  2421  2421  2421  \n",
       "635  2262  2162  2431  2262  \n",
       "636  3345  3355  3155  3345  \n",
       "637  2221  4421  2421  2221  \n",
       "\n",
       "[638 rows x 8 columns]"
      ]
     },
     "execution_count": 28,
     "metadata": {},
     "output_type": "execute_result"
    }
   ],
   "source": [
    "annotation_result_df "
   ]
  },
  {
   "cell_type": "code",
   "execution_count": 29,
   "id": "ad641c0d",
   "metadata": {},
   "outputs": [],
   "source": [
    "\"\"\" data format\n",
    "worker1\tworker2\tworker3\n",
    "1\t1\t2\n",
    "3\t1\t3\n",
    "3\t3\t3\n",
    "4\t1\t4\n",
    "4\t4\t2\n",
    "\"\"\" \n",
    "annotation_results = [[],[],[],[]]\n",
    "annotator1 = annotation_result_df[\"원익\"]\n",
    "annotator2 = annotation_result_df[\"수민\"]\n",
    "annotator3 = annotation_result_df[\"유정\"]"
   ]
  },
  {
   "cell_type": "code",
   "execution_count": 30,
   "id": "794274ca",
   "metadata": {},
   "outputs": [],
   "source": [
    "for a1, a2, a3 in zip(annotator1, annotator2, annotator3):\n",
    "    for i in range(4):\n",
    "        annotation_results[i].append(\n",
    "        {\n",
    "            \"annotator1\": int(str(a1)[i]),\n",
    "            \"annotator2\": int(str(a2)[i]),\n",
    "            \"annotator3\": int(str(a3)[i]),\n",
    "        })"
   ]
  },
  {
   "cell_type": "code",
   "execution_count": 31,
   "id": "6ad2ed8c",
   "metadata": {},
   "outputs": [],
   "source": [
    "def calculate_iaa(annotation_result):\n",
    "    import pandas as pd\n",
    "    import numpy as np\n",
    "    from fleiss import fleissKappa\n",
    "\n",
    "    result = annotation_result.to_numpy()\n",
    "    num_classes = int(np.max(result))\n",
    "\n",
    "    transformed_result = []\n",
    "    for i in range(len(result)):\n",
    "        temp = np.zeros(num_classes)\n",
    "        for j in range(len(result[i])):\n",
    "            temp[int(result[i][j]-1)] += 1\n",
    "        transformed_result.append(temp.astype(int).tolist())\n",
    "\n",
    "    kappa = fleissKappa(transformed_result,len(result[0]))\n",
    "    return"
   ]
  },
  {
   "cell_type": "code",
   "execution_count": 32,
   "id": "fbdccfa0",
   "metadata": {},
   "outputs": [
    {
     "data": {
      "text/plain": [
       "numpy.int64"
      ]
     },
     "execution_count": 32,
     "metadata": {},
     "output_type": "execute_result"
    }
   ],
   "source": [
    "type(pd.DataFrame(annotation_results[0]).iloc[0]['annotator1'])"
   ]
  },
  {
   "cell_type": "code",
   "execution_count": 35,
   "id": "6ee84194",
   "metadata": {},
   "outputs": [
    {
     "name": "stdout",
     "output_type": "stream",
     "text": [
      "Tag Type : 1\n",
      "#raters =  3 , #subjects =  638 , #categories =  5\n",
      "PA =  0.6003134796238236\n",
      "PE = 0.3414640404695534\n",
      "Fleiss' Kappa = 0.393\n",
      "\n",
      "Tag Type : 2\n",
      "#raters =  3 , #subjects =  638 , #categories =  4\n",
      "PA =  0.7126436781609167\n",
      "PE = 0.38718773509606924\n",
      "Fleiss' Kappa = 0.531\n",
      "\n",
      "Tag Type : 3\n",
      "#raters =  3 , #subjects =  638 , #categories =  6\n",
      "PA =  0.6269592476489018\n",
      "PE = 0.21707235581411347\n",
      "Fleiss' Kappa = 0.524\n",
      "\n",
      "Tag Type : 4\n",
      "#raters =  3 , #subjects =  638 , #categories =  6\n",
      "PA =  0.6844305120167168\n",
      "PE = 0.3377543678051731\n",
      "Fleiss' Kappa = 0.523\n",
      "\n"
     ]
    }
   ],
   "source": [
    "for i in range(4):\n",
    "    print(f\"Tag Type : {i+1}\")\n",
    "    calculate_iaa(pd.DataFrame(annotation_results[i]))\n",
    "    print()"
   ]
  },
  {
   "cell_type": "code",
   "execution_count": null,
   "id": "d4bdcaa3",
   "metadata": {},
   "outputs": [],
   "source": []
  }
 ],
 "metadata": {
  "kernelspec": {
   "display_name": "Python 3",
   "language": "python",
   "name": "python3"
  },
  "language_info": {
   "codemirror_mode": {
    "name": "ipython",
    "version": 3
   },
   "file_extension": ".py",
   "mimetype": "text/x-python",
   "name": "python",
   "nbconvert_exporter": "python",
   "pygments_lexer": "ipython3",
   "version": "3.9.7"
  },
  "toc": {
   "base_numbering": 1,
   "nav_menu": {},
   "number_sections": true,
   "sideBar": true,
   "skip_h1_title": false,
   "title_cell": "Table of Contents",
   "title_sidebar": "Contents",
   "toc_cell": false,
   "toc_position": {},
   "toc_section_display": true,
   "toc_window_display": false
  },
  "varInspector": {
   "cols": {
    "lenName": 16,
    "lenType": 16,
    "lenVar": 40
   },
   "kernels_config": {
    "python": {
     "delete_cmd_postfix": "",
     "delete_cmd_prefix": "del ",
     "library": "var_list.py",
     "varRefreshCmd": "print(var_dic_list())"
    },
    "r": {
     "delete_cmd_postfix": ") ",
     "delete_cmd_prefix": "rm(",
     "library": "var_list.r",
     "varRefreshCmd": "cat(var_dic_list()) "
    }
   },
   "types_to_exclude": [
    "module",
    "function",
    "builtin_function_or_method",
    "instance",
    "_Feature"
   ],
   "window_display": false
  }
 },
 "nbformat": 4,
 "nbformat_minor": 5
}
