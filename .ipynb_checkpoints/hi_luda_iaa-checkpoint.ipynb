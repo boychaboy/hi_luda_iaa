{
 "cells": [
  {
   "cell_type": "markdown",
   "id": "8f9416b4",
   "metadata": {},
   "source": [
    "# Calculate IAA using Fleiss Kappa"
   ]
  },
  {
   "cell_type": "code",
   "execution_count": 15,
   "id": "c885a8f0",
   "metadata": {},
   "outputs": [],
   "source": [
    "import pandas as pd\n",
    "import numpy as np\n",
    "from collections import Counter"
   ]
  },
  {
   "cell_type": "code",
   "execution_count": 43,
   "id": "d5e87bd5",
   "metadata": {},
   "outputs": [],
   "source": [
    "annotation_result_df = pd.read_csv(\"iaa.csv\")"
   ]
  },
  {
   "cell_type": "code",
   "execution_count": 44,
   "id": "48a77b24",
   "metadata": {},
   "outputs": [
    {
     "data": {
      "text/html": [
       "<div>\n",
       "<style scoped>\n",
       "    .dataframe tbody tr th:only-of-type {\n",
       "        vertical-align: middle;\n",
       "    }\n",
       "\n",
       "    .dataframe tbody tr th {\n",
       "        vertical-align: top;\n",
       "    }\n",
       "\n",
       "    .dataframe thead th {\n",
       "        text-align: right;\n",
       "    }\n",
       "</style>\n",
       "<table border=\"1\" class=\"dataframe\">\n",
       "  <thead>\n",
       "    <tr style=\"text-align: right;\">\n",
       "      <th></th>\n",
       "      <th>num</th>\n",
       "      <th>원익</th>\n",
       "      <th>수민</th>\n",
       "      <th>유정</th>\n",
       "      <th>결론</th>\n",
       "    </tr>\n",
       "  </thead>\n",
       "  <tbody>\n",
       "    <tr>\n",
       "      <th>0</th>\n",
       "      <td>11</td>\n",
       "      <td>2111</td>\n",
       "      <td>2111</td>\n",
       "      <td>2111</td>\n",
       "      <td>2111</td>\n",
       "    </tr>\n",
       "    <tr>\n",
       "      <th>1</th>\n",
       "      <td>12</td>\n",
       "      <td>2341</td>\n",
       "      <td>2141</td>\n",
       "      <td>2131</td>\n",
       "      <td>2341</td>\n",
       "    </tr>\n",
       "    <tr>\n",
       "      <th>2</th>\n",
       "      <td>19</td>\n",
       "      <td>4131</td>\n",
       "      <td>4131</td>\n",
       "      <td>4421</td>\n",
       "      <td>3131</td>\n",
       "    </tr>\n",
       "    <tr>\n",
       "      <th>3</th>\n",
       "      <td>25</td>\n",
       "      <td>2411</td>\n",
       "      <td>2131</td>\n",
       "      <td>2141</td>\n",
       "      <td>2431</td>\n",
       "    </tr>\n",
       "    <tr>\n",
       "      <th>4</th>\n",
       "      <td>27</td>\n",
       "      <td>1155</td>\n",
       "      <td>2151</td>\n",
       "      <td>2131</td>\n",
       "      <td>2151</td>\n",
       "    </tr>\n",
       "    <tr>\n",
       "      <th>...</th>\n",
       "      <td>...</td>\n",
       "      <td>...</td>\n",
       "      <td>...</td>\n",
       "      <td>...</td>\n",
       "      <td>...</td>\n",
       "    </tr>\n",
       "    <tr>\n",
       "      <th>633</th>\n",
       "      <td>2426</td>\n",
       "      <td>2133</td>\n",
       "      <td>2133</td>\n",
       "      <td>2131</td>\n",
       "      <td>2133</td>\n",
       "    </tr>\n",
       "    <tr>\n",
       "      <th>634</th>\n",
       "      <td>2432</td>\n",
       "      <td>4421</td>\n",
       "      <td>2421</td>\n",
       "      <td>2421</td>\n",
       "      <td>2421</td>\n",
       "    </tr>\n",
       "    <tr>\n",
       "      <th>635</th>\n",
       "      <td>2434</td>\n",
       "      <td>2262</td>\n",
       "      <td>2162</td>\n",
       "      <td>2431</td>\n",
       "      <td>2262</td>\n",
       "    </tr>\n",
       "    <tr>\n",
       "      <th>636</th>\n",
       "      <td>2435</td>\n",
       "      <td>3345</td>\n",
       "      <td>3355</td>\n",
       "      <td>3155</td>\n",
       "      <td>3345</td>\n",
       "    </tr>\n",
       "    <tr>\n",
       "      <th>637</th>\n",
       "      <td>2437</td>\n",
       "      <td>2221</td>\n",
       "      <td>4421</td>\n",
       "      <td>2421</td>\n",
       "      <td>2221</td>\n",
       "    </tr>\n",
       "  </tbody>\n",
       "</table>\n",
       "<p>638 rows × 5 columns</p>\n",
       "</div>"
      ],
      "text/plain": [
       "      num    원익    수민    유정    결론\n",
       "0      11  2111  2111  2111  2111\n",
       "1      12  2341  2141  2131  2341\n",
       "2      19  4131  4131  4421  3131\n",
       "3      25  2411  2131  2141  2431\n",
       "4      27  1155  2151  2131  2151\n",
       "..    ...   ...   ...   ...   ...\n",
       "633  2426  2133  2133  2131  2133\n",
       "634  2432  4421  2421  2421  2421\n",
       "635  2434  2262  2162  2431  2262\n",
       "636  2435  3345  3355  3155  3345\n",
       "637  2437  2221  4421  2421  2221\n",
       "\n",
       "[638 rows x 5 columns]"
      ]
     },
     "execution_count": 44,
     "metadata": {},
     "output_type": "execute_result"
    }
   ],
   "source": [
    "annotation_result_df"
   ]
  },
  {
   "cell_type": "code",
   "execution_count": 45,
   "id": "ad641c0d",
   "metadata": {},
   "outputs": [],
   "source": [
    "\"\"\" data format\n",
    "worker1\tworker2\tworker3\n",
    "1\t1\t2\n",
    "3\t1\t3\n",
    "3\t3\t3\n",
    "4\t1\t4\n",
    "4\t4\t2\n",
    "\"\"\" \n",
    "annotation_results = [[],[],[],[]]\n",
    "annotator1 = annotation_result_df[\"원익\"]\n",
    "annotator2 = annotation_result_df[\"수민\"]\n",
    "annotator3 = annotation_result_df[\"유정\"]"
   ]
  },
  {
   "cell_type": "code",
   "execution_count": 46,
   "id": "06f9ba9d",
   "metadata": {},
   "outputs": [],
   "source": [
    "for a1, a2, a3 in zip(annotator1, annotator2, annotator3):\n",
    "    for i in range(4):\n",
    "        annotation_results[i].append(\n",
    "        {\n",
    "            \"annotator1\": int(str(a1)[i]),\n",
    "            \"annotator2\": int(str(a2)[i]),\n",
    "            \"annotator3\": int(str(a3)[i]),\n",
    "        })"
   ]
  },
  {
   "cell_type": "code",
   "execution_count": 47,
   "id": "c55a2349",
   "metadata": {},
   "outputs": [],
   "source": [
    "def calculate_iaa(annotation_result):\n",
    "    import pandas as pd\n",
    "    import numpy as np\n",
    "    from fleiss import fleissKappa\n",
    "\n",
    "    result = annotation_result.to_numpy()\n",
    "    num_classes = int(np.max(result))\n",
    "\n",
    "    transformed_result = []\n",
    "    for i in range(len(result)):\n",
    "        temp = np.zeros(num_classes)\n",
    "        for j in range(len(result[i])):\n",
    "            temp[int(result[i][j]-1)] += 1\n",
    "        transformed_result.append(temp.astype(int).tolist())\n",
    "\n",
    "    kappa = fleissKappa(transformed_result,len(result[0]))\n",
    "    return"
   ]
  },
  {
   "cell_type": "code",
   "execution_count": 48,
   "id": "116dc353",
   "metadata": {},
   "outputs": [
    {
     "name": "stdout",
     "output_type": "stream",
     "text": [
      "Tag Type : 1\n",
      "#raters =  3 , #subjects =  638 , #categories =  5\n",
      "PA =  0.6003134796238236\n",
      "PE = 0.3414640404695534\n",
      "Fleiss' Kappa = 0.393\n",
      "\n",
      "Tag Type : 2\n",
      "#raters =  3 , #subjects =  638 , #categories =  4\n",
      "PA =  0.7126436781609167\n",
      "PE = 0.38718773509606924\n",
      "Fleiss' Kappa = 0.531\n",
      "\n",
      "Tag Type : 3\n",
      "#raters =  3 , #subjects =  638 , #categories =  6\n",
      "PA =  0.6269592476489018\n",
      "PE = 0.21707235581411347\n",
      "Fleiss' Kappa = 0.524\n",
      "\n",
      "Tag Type : 4\n",
      "#raters =  3 , #subjects =  638 , #categories =  6\n",
      "PA =  0.6844305120167168\n",
      "PE = 0.3377543678051731\n",
      "Fleiss' Kappa = 0.523\n",
      "\n"
     ]
    }
   ],
   "source": [
    "for i in range(4):\n",
    "    print(f\"Tag Type : {i+1}\")\n",
    "    calculate_iaa(pd.DataFrame(annotation_results[i]))\n",
    "    print()"
   ]
  },
  {
   "cell_type": "markdown",
   "id": "a6bfc3e5",
   "metadata": {},
   "source": [
    "# Accuracy per annotators"
   ]
  },
  {
   "cell_type": "code",
   "execution_count": 8,
   "id": "d71ab642",
   "metadata": {},
   "outputs": [],
   "source": [
    "gold_labels = [[],[],[],[]]\n",
    "for gold in annotation_result_df[\"결론\"]:\n",
    "    for i in range(4):\n",
    "        gold_labels[i].append(\n",
    "            int(str(gold)[i]),\n",
    "        )"
   ]
  },
  {
   "cell_type": "code",
   "execution_count": 11,
   "id": "446431ae",
   "metadata": {},
   "outputs": [
    {
     "name": "stdout",
     "output_type": "stream",
     "text": [
      "Tag Type : 1\n",
      "원익 : 0.790\n",
      "수민: 0.738\n",
      "유정: 0.715\n",
      "\n",
      "Tag Type : 2\n",
      "원익 : 0.851\n",
      "수민: 0.839\n",
      "유정: 0.784\n",
      "\n",
      "Tag Type : 3\n",
      "원익 : 0.839\n",
      "수민: 0.773\n",
      "유정: 0.727\n",
      "\n",
      "Tag Type : 4\n",
      "원익 : 0.813\n",
      "수민: 0.785\n",
      "유정: 0.803\n",
      "\n"
     ]
    }
   ],
   "source": [
    "ann1_avg = 0\n",
    "ann2_avg = 0\n",
    "ann3_avg = 0\n",
    "for i in range(4):\n",
    "    print(f\"Tag Type : {i+1}\")\n",
    "    ann1_acc = sum(pd.DataFrame(annotation_results[i])['annotator1'].to_numpy() == np.array(gold_labels[i])) / len(gold_labels[i])\n",
    "    ann2_acc = sum(pd.DataFrame(annotation_results[i])['annotator2'].to_numpy() == np.array(gold_labels[i])) / len(gold_labels[i])\n",
    "    ann3_acc = sum(pd.DataFrame(annotation_results[i])['annotator3'].to_numpy() == np.array(gold_labels[i])) / len(gold_labels[i])\n",
    "    ann1_avg += ann1_acc\n",
    "    ann2_avg += ann2_acc\n",
    "    ann3_avg += ann3_acc\n",
    "    print(f\"원익 : {ann1_acc:.3f}\")\n",
    "    print(f\"수민: {ann2_acc:.3f}\")\n",
    "    print(f\"유정: {ann3_acc:.3f}\")\n",
    "    print()\n",
    "# print(f\"Average Accuracy\")\n",
    "# print(f\"원익 : {ann1_avg/4}\")\n",
    "# print(f\"수민: {ann2_avg/4}\")\n",
    "# print(f\"유정: {ann3_avg/4}\")"
   ]
  },
  {
   "cell_type": "markdown",
   "id": "7b46f019",
   "metadata": {},
   "source": [
    "# IAA per label"
   ]
  },
  {
   "cell_type": "code",
   "execution_count": 41,
   "id": "5d95ab0b",
   "metadata": {},
   "outputs": [
    {
     "data": {
      "text/plain": [
       "[{'annotator1': 2, 'annotator2': 2, 'annotator3': 2},\n",
       " {'annotator1': 2, 'annotator2': 2, 'annotator3': 2},\n",
       " {'annotator1': 4, 'annotator2': 4, 'annotator3': 4},\n",
       " {'annotator1': 2, 'annotator2': 2, 'annotator3': 2},\n",
       " {'annotator1': 1, 'annotator2': 2, 'annotator3': 2},\n",
       " {'annotator1': 2, 'annotator2': 2, 'annotator3': 2},\n",
       " {'annotator1': 2, 'annotator2': 2, 'annotator3': 2},\n",
       " {'annotator1': 2, 'annotator2': 2, 'annotator3': 1},\n",
       " {'annotator1': 1, 'annotator2': 2, 'annotator3': 2},\n",
       " {'annotator1': 2, 'annotator2': 2, 'annotator3': 2}]"
      ]
     },
     "execution_count": 41,
     "metadata": {},
     "output_type": "execute_result"
    }
   ],
   "source": [
    "annotation_results[0][:10]"
   ]
  },
  {
   "cell_type": "code",
   "execution_count": 49,
   "id": "f437dc15",
   "metadata": {
    "scrolled": false
   },
   "outputs": [
    {
     "name": "stdout",
     "output_type": "stream",
     "text": [
      "Label : 1\n",
      "1\n",
      "#raters =  3 , #subjects =  638 , #categories =  1\n",
      "PA =  1.0\n",
      "PE = 1.0\n",
      "Expected agreement = 1\n",
      "Fleiss' Kappa = -inf\n",
      "2\n",
      "#raters =  3 , #subjects =  638 , #categories =  2\n",
      "PA =  1.0\n",
      "PE = 1.0\n",
      "Expected agreement = 1\n",
      "Fleiss' Kappa = -inf\n",
      "3\n",
      "#raters =  3 , #subjects =  638 , #categories =  3\n",
      "PA =  1.0\n",
      "PE = 1.0\n",
      "Expected agreement = 1\n",
      "Fleiss' Kappa = -inf\n",
      "4\n",
      "#raters =  3 , #subjects =  638 , #categories =  4\n",
      "PA =  1.0\n",
      "PE = 1.0\n",
      "Expected agreement = 1\n",
      "Fleiss' Kappa = -inf\n",
      "5\n",
      "#raters =  3 , #subjects =  638 , #categories =  5\n",
      "PA =  1.0\n",
      "PE = 1.0\n",
      "Expected agreement = 1\n",
      "Fleiss' Kappa = -inf\n",
      "Label : 2\n",
      "1\n",
      "#raters =  3 , #subjects =  638 , #categories =  1\n",
      "PA =  1.0\n",
      "PE = 1.0\n",
      "Expected agreement = 1\n",
      "Fleiss' Kappa = -inf\n",
      "2\n",
      "#raters =  3 , #subjects =  638 , #categories =  2\n",
      "PA =  1.0\n",
      "PE = 1.0\n",
      "Expected agreement = 1\n",
      "Fleiss' Kappa = -inf\n",
      "3\n",
      "#raters =  3 , #subjects =  638 , #categories =  3\n",
      "PA =  1.0\n",
      "PE = 1.0\n",
      "Expected agreement = 1\n",
      "Fleiss' Kappa = -inf\n",
      "4\n",
      "#raters =  3 , #subjects =  638 , #categories =  4\n",
      "PA =  1.0\n",
      "PE = 1.0\n",
      "Expected agreement = 1\n",
      "Fleiss' Kappa = -inf\n",
      "Label : 3\n",
      "1\n",
      "#raters =  3 , #subjects =  638 , #categories =  1\n",
      "PA =  1.0\n",
      "PE = 1.0\n",
      "Expected agreement = 1\n",
      "Fleiss' Kappa = -inf\n",
      "2\n",
      "#raters =  3 , #subjects =  638 , #categories =  2\n",
      "PA =  1.0\n",
      "PE = 1.0\n",
      "Expected agreement = 1\n",
      "Fleiss' Kappa = -inf\n",
      "3\n",
      "#raters =  3 , #subjects =  638 , #categories =  3\n",
      "PA =  1.0\n",
      "PE = 1.0\n",
      "Expected agreement = 1\n",
      "Fleiss' Kappa = -inf\n",
      "4\n",
      "#raters =  3 , #subjects =  638 , #categories =  4\n",
      "PA =  1.0\n",
      "PE = 1.0\n",
      "Expected agreement = 1\n",
      "Fleiss' Kappa = -inf\n",
      "5\n",
      "#raters =  3 , #subjects =  638 , #categories =  5\n",
      "PA =  1.0\n",
      "PE = 1.0\n",
      "Expected agreement = 1\n",
      "Fleiss' Kappa = -inf\n",
      "6\n",
      "#raters =  3 , #subjects =  638 , #categories =  6\n",
      "PA =  1.0\n",
      "PE = 1.0\n",
      "Expected agreement = 1\n",
      "Fleiss' Kappa = -inf\n",
      "Label : 4\n",
      "1\n",
      "#raters =  3 , #subjects =  638 , #categories =  1\n",
      "PA =  1.0\n",
      "PE = 1.0\n",
      "Expected agreement = 1\n",
      "Fleiss' Kappa = -inf\n",
      "2\n",
      "#raters =  3 , #subjects =  638 , #categories =  2\n",
      "PA =  1.0\n",
      "PE = 1.0\n",
      "Expected agreement = 1\n",
      "Fleiss' Kappa = -inf\n",
      "3\n",
      "#raters =  3 , #subjects =  638 , #categories =  3\n",
      "PA =  1.0\n",
      "PE = 1.0\n",
      "Expected agreement = 1\n",
      "Fleiss' Kappa = -inf\n",
      "4\n",
      "#raters =  3 , #subjects =  638 , #categories =  4\n",
      "PA =  1.0\n",
      "PE = 1.0\n",
      "Expected agreement = 1\n",
      "Fleiss' Kappa = -inf\n",
      "5\n",
      "#raters =  3 , #subjects =  638 , #categories =  5\n",
      "PA =  1.0\n",
      "PE = 1.0\n",
      "Expected agreement = 1\n",
      "Fleiss' Kappa = -inf\n",
      "6\n",
      "#raters =  3 , #subjects =  638 , #categories =  6\n",
      "PA =  1.0\n",
      "PE = 1.0\n",
      "Expected agreement = 1\n",
      "Fleiss' Kappa = -inf\n"
     ]
    }
   ],
   "source": [
    "import copy\n",
    "num_categories_per_label = {\n",
    "    1: 5,\n",
    "    2: 4,\n",
    "    3: 6,\n",
    "    4: 6,\n",
    "}\n",
    "for i in range(4):\n",
    "    print(f\"Label : {i+1}\")\n",
    "    # reformat into binary label per attributes\n",
    "    for j in range(num_categories_per_label[i+1]):\n",
    "        print(f\"{j+1}\")\n",
    "        reformatted_annotation_result = copy.deepcopy(annotation_results[i])\n",
    "        for ann in reformatted_annotation_result:\n",
    "            for a in ann.keys():\n",
    "                if ann[a] != j+1:\n",
    "                    ann[a] = 0\n",
    "        calculate_iaa(pd.DataFrame(reformatted_annotation_result))"
   ]
  },
  {
   "cell_type": "markdown",
   "id": "95c394c2",
   "metadata": {},
   "source": [
    "# Label Distribution"
   ]
  },
  {
   "cell_type": "code",
   "execution_count": 13,
   "id": "534c9144",
   "metadata": {},
   "outputs": [],
   "source": [
    "gold_labels = np.array(gold_labels)"
   ]
  },
  {
   "cell_type": "code",
   "execution_count": 30,
   "id": "88ca40ba",
   "metadata": {},
   "outputs": [
    {
     "name": "stdout",
     "output_type": "stream",
     "text": [
      "Label 1\n",
      "109\t0.17084639498432602\n",
      "343\t0.5376175548589341\n",
      "83\t0.13009404388714735\n",
      "47\t0.07366771159874608\n",
      "56\t0.0877742946708464\n",
      "Label 2\n",
      "346\t0.542319749216301\n",
      "62\t0.09717868338557993\n",
      "80\t0.12539184952978055\n",
      "150\t0.23510971786833856\n",
      "Label 3\n",
      "55\t0.08620689655172414\n",
      "89\t0.13949843260188088\n",
      "181\t0.2836990595611285\n",
      "84\t0.13166144200626959\n",
      "165\t0.25862068965517243\n",
      "64\t0.10031347962382445\n",
      "Label 4\n",
      "315\t0.493730407523511\n",
      "66\t0.10344827586206896\n",
      "21\t0.032915360501567396\n",
      "70\t0.109717868338558\n",
      "116\t0.18181818181818182\n",
      "50\t0.07836990595611286\n"
     ]
    }
   ],
   "source": [
    "counter_per_label = {}\n",
    "for i in range(len(gold_labels)):\n",
    "    counter_per_label[i] = Counter(gold_labels[i])\n",
    "    print(f\"Label {i+1}\")\n",
    "    total = len(gold_labels[i])\n",
    "    for label, attribute_cnt in sorted(counter_per_label[i].items()):\n",
    "        print(f\"{attribute_cnt}\\t{attribute_cnt/total}\")"
   ]
  },
  {
   "cell_type": "code",
   "execution_count": 24,
   "id": "3cfaee95",
   "metadata": {},
   "outputs": [
    {
     "data": {
      "text/plain": [
       "[(1, 109), (2, 343), (3, 83), (4, 47), (5, 56)]"
      ]
     },
     "execution_count": 24,
     "metadata": {},
     "output_type": "execute_result"
    }
   ],
   "source": [
    "sorted(counter_per_label[0].items())"
   ]
  },
  {
   "cell_type": "code",
   "execution_count": null,
   "id": "692c6516",
   "metadata": {},
   "outputs": [],
   "source": []
  }
 ],
 "metadata": {
  "kernelspec": {
   "display_name": "Python 3",
   "language": "python",
   "name": "python3"
  },
  "language_info": {
   "codemirror_mode": {
    "name": "ipython",
    "version": 3
   },
   "file_extension": ".py",
   "mimetype": "text/x-python",
   "name": "python",
   "nbconvert_exporter": "python",
   "pygments_lexer": "ipython3",
   "version": "3.9.7"
  },
  "toc": {
   "base_numbering": 1,
   "nav_menu": {},
   "number_sections": true,
   "sideBar": true,
   "skip_h1_title": false,
   "title_cell": "Table of Contents",
   "title_sidebar": "Contents",
   "toc_cell": false,
   "toc_position": {},
   "toc_section_display": true,
   "toc_window_display": false
  },
  "varInspector": {
   "cols": {
    "lenName": 16,
    "lenType": 16,
    "lenVar": 40
   },
   "kernels_config": {
    "python": {
     "delete_cmd_postfix": "",
     "delete_cmd_prefix": "del ",
     "library": "var_list.py",
     "varRefreshCmd": "print(var_dic_list())"
    },
    "r": {
     "delete_cmd_postfix": ") ",
     "delete_cmd_prefix": "rm(",
     "library": "var_list.r",
     "varRefreshCmd": "cat(var_dic_list()) "
    }
   },
   "types_to_exclude": [
    "module",
    "function",
    "builtin_function_or_method",
    "instance",
    "_Feature"
   ],
   "window_display": false
  }
 },
 "nbformat": 4,
 "nbformat_minor": 5
}
